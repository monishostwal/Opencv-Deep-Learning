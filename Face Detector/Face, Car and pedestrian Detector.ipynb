{
 "cells": [
  {
   "cell_type": "markdown",
   "metadata": {},
   "source": [
    "# Face and Eye Detection"
   ]
  },
  {
   "cell_type": "code",
   "execution_count": 1,
   "metadata": {},
   "outputs": [],
   "source": [
    "import cv2"
   ]
  },
  {
   "cell_type": "code",
   "execution_count": 8,
   "metadata": {},
   "outputs": [],
   "source": [
    "img=cv2.imread('../augmented_image_306.jpg')\n",
    "gray_img=cv2.cvtColor(img,cv2.COLOR_BGR2GRAY)\n",
    "face_classifier=cv2.CascadeClassifier('../haarcascades/haarcascade_frontalface_default.xml')\n",
    "eye_classifier=cv2.CascadeClassifier('../haarcascades/haarcascade_eye.xml')\n",
    "faces=face_classifier.detectMultiScale(gray_img,2,3)\n",
    "eyes=eye_classifier.detectMultiScale(gray_img,3.1,3)\n",
    "cv2.imshow('new_img',img)\n",
    "cv2.waitKey(0)\n",
    "cv2.destroyAllWindows()"
   ]
  },
  {
   "cell_type": "code",
   "execution_count": 9,
   "metadata": {},
   "outputs": [],
   "source": [
    "new_img=img\n",
    "if faces is ():\n",
    "    print(\"No face Found\")\n",
    "else:\n",
    "    for ( x,y,w,h) in faces:\n",
    "        new_img=cv2.rectangle(img,(x,y),(x+w,y+h),(0,0,255),3)\n",
    "if eyes is ():\n",
    "    print(\"No eyes found\")\n",
    "else:\n",
    "    for ( x,y,w,h) in eyes:\n",
    "        new_img=cv2.rectangle(img,(x,y),(x+w,y+h),(255,0,0),3)\n",
    "    \n",
    "cv2.imshow(\"New\",new_img)\n",
    "cv2.waitKey(0)\n",
    "cv2.destroyAllWindows()"
   ]
  },
  {
   "cell_type": "markdown",
   "metadata": {},
   "source": [
    "# Live face and eye detector"
   ]
  },
  {
   "cell_type": "markdown",
   "metadata": {},
   "source": [
    "def track(img):\n",
    "    gray_img=cv2.cvtColor(img,cv2.COLOR_BGR2GRAY)\n",
    "    face_classifier=cv2.CascadeClassifier('../haarcascades/haarcascade_frontalface_default.xml')\n",
    "    eye_classifier=cv2.CascadeClassifier('../haarcascades/haarcascade_eye.xml')\n",
    "    faces=face_classifier.detectMultiScale(gray_img,1.15,6)\n",
    "    eyes=eye_classifier.detectMultiScale(gray_img,1.15,6)\n",
    "    new_img=img\n",
    "    if faces is ():\n",
    "        pass\n",
    "    else:\n",
    "        for ( x,y,w,h) in faces:\n",
    "            new_img=cv2.rectangle(img,(x,y),(x+w,y+h),(0,0,255),3)\n",
    "    if eyes is ():\n",
    "        pass\n",
    "    else:\n",
    "        for ( x,y,w,h) in eyes:\n",
    "            new_img=cv2.rectangle(img,(x,y),(x+w,y+h),(255,0,0),3)\n",
    "    return new_img"
   ]
  },
  {
   "cell_type": "code",
   "execution_count": 10,
   "metadata": {},
   "outputs": [
    {
     "ename": "NameError",
     "evalue": "name 'track' is not defined",
     "output_type": "error",
     "traceback": [
      "\u001b[1;31m---------------------------------------------------------------------------\u001b[0m",
      "\u001b[1;31mNameError\u001b[0m                                 Traceback (most recent call last)",
      "\u001b[1;32m<ipython-input-10-6ca154c379e9>\u001b[0m in \u001b[0;36m<module>\u001b[1;34m()\u001b[0m\n\u001b[0;32m      2\u001b[0m \u001b[1;32mwhile\u001b[0m\u001b[1;33m(\u001b[0m\u001b[1;32mTrue\u001b[0m\u001b[1;33m)\u001b[0m\u001b[1;33m:\u001b[0m\u001b[1;33m\u001b[0m\u001b[1;33m\u001b[0m\u001b[0m\n\u001b[0;32m      3\u001b[0m     \u001b[0mret\u001b[0m\u001b[1;33m,\u001b[0m\u001b[0mimg\u001b[0m\u001b[1;33m=\u001b[0m\u001b[0mcap\u001b[0m\u001b[1;33m.\u001b[0m\u001b[0mread\u001b[0m\u001b[1;33m(\u001b[0m\u001b[1;33m)\u001b[0m\u001b[1;33m\u001b[0m\u001b[1;33m\u001b[0m\u001b[0m\n\u001b[1;32m----> 4\u001b[1;33m     \u001b[0mcv2\u001b[0m\u001b[1;33m.\u001b[0m\u001b[0mimshow\u001b[0m\u001b[1;33m(\u001b[0m\u001b[1;34m\"Video\"\u001b[0m\u001b[1;33m,\u001b[0m\u001b[0mtrack\u001b[0m\u001b[1;33m(\u001b[0m\u001b[0mimg\u001b[0m\u001b[1;33m)\u001b[0m\u001b[1;33m)\u001b[0m\u001b[1;33m\u001b[0m\u001b[1;33m\u001b[0m\u001b[0m\n\u001b[0m\u001b[0;32m      5\u001b[0m     \u001b[1;32mif\u001b[0m\u001b[1;33m(\u001b[0m\u001b[0mcv2\u001b[0m\u001b[1;33m.\u001b[0m\u001b[0mwaitKey\u001b[0m\u001b[1;33m(\u001b[0m\u001b[1;36m1\u001b[0m\u001b[1;33m)\u001b[0m\u001b[1;33m==\u001b[0m\u001b[1;36m27\u001b[0m\u001b[1;33m)\u001b[0m\u001b[1;33m:\u001b[0m\u001b[1;33m\u001b[0m\u001b[1;33m\u001b[0m\u001b[0m\n\u001b[0;32m      6\u001b[0m         \u001b[1;32mbreak\u001b[0m\u001b[1;33m\u001b[0m\u001b[1;33m\u001b[0m\u001b[0m\n",
      "\u001b[1;31mNameError\u001b[0m: name 'track' is not defined"
     ]
    }
   ],
   "source": [
    "cap=cv2.VideoCapture(0)\n",
    "while(True):\n",
    "    ret,img=cap.read()\n",
    "    cv2.imshow(\"Video\",track(img))\n",
    "    if(cv2.waitKey(1)==27):\n",
    "        break\n",
    "cap.release()\n",
    "cv2.destroyAllWindows()"
   ]
  },
  {
   "cell_type": "markdown",
   "metadata": {},
   "source": [
    "# Car Detection"
   ]
  },
  {
   "cell_type": "code",
   "execution_count": 2,
   "metadata": {},
   "outputs": [],
   "source": [
    "import cv2\n",
    "def detect_car(img):\n",
    "    gray_img=cv2.cvtColor(img,cv2.COLOR_BGR2GRAY)\n",
    "    car_classifier=cv2.CascadeClassifier('../haarcascades/haarcascade_car.xml')\n",
    "    cars=car_classifier.detectMultiScale(gray_img,1.15,6)\n",
    "    new_img=img\n",
    "    if cars is ():\n",
    "        pass\n",
    "    else:\n",
    "        for(x,y,w,h) in cars:\n",
    "            new_img=cv2.rectangle(img,(x,y),(x+w,y+h),(255,0,0),3)\n",
    "    return new_img"
   ]
  },
  {
   "cell_type": "code",
   "execution_count": 4,
   "metadata": {},
   "outputs": [],
   "source": [
    "import time\n",
    "cap=cv2.VideoCapture('../Images/cars.avi')\n",
    "while cap.isOpened():\n",
    "    time.sleep(0.1)\n",
    "    ret,img=cap.read()\n",
    "    cv2.imshow(\"Video\",detect_car(img))\n",
    "    if(cv2.waitKey(1)==27):\n",
    "\n",
    "        break\n",
    "\n",
    "cap.release()\n",
    "cv2.destroyAllWindows()"
   ]
  }
 ],
 "metadata": {
  "kernelspec": {
   "display_name": "Python 3",
   "language": "python",
   "name": "python3"
  },
  "language_info": {
   "codemirror_mode": {
    "name": "ipython",
    "version": 3
   },
   "file_extension": ".py",
   "mimetype": "text/x-python",
   "name": "python",
   "nbconvert_exporter": "python",
   "pygments_lexer": "ipython3",
   "version": "3.7.3"
  }
 },
 "nbformat": 4,
 "nbformat_minor": 2
}
