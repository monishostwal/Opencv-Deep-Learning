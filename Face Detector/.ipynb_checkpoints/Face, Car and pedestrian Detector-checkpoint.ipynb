{
 "cells": [
  {
   "cell_type": "markdown",
   "metadata": {},
   "source": [
    "# Face and Eye Detection"
   ]
  },
  {
   "cell_type": "code",
   "execution_count": 3,
   "metadata": {},
   "outputs": [],
   "source": [
    "import cv2"
   ]
  },
  {
   "cell_type": "code",
   "execution_count": 33,
   "metadata": {},
   "outputs": [],
   "source": [
    "img=cv2.imread('../Images/multiplefaces.jpg')\n",
    "gray_img=cv2.cvtColor(img,cv2.COLOR_BGR2GRAY)\n",
    "face_classifier=cv2.CascadeClassifier('../haarcascades/haarcascade_frontalface_default.xml')\n",
    "eye_classifier=cv2.CascadeClassifier('../haarcascades/haarcascade_eye.xml')\n",
    "faces=face_classifier.detectMultiScale(gray_img,1.5,3)\n",
    "eyes=eye_classifier.detectMultiScale(gray_img,3.1,3)"
   ]
  },
  {
   "cell_type": "code",
   "execution_count": 34,
   "metadata": {},
   "outputs": [],
   "source": [
    "if faces is ():\n",
    "    print(\"No face Found\")\n",
    "else:\n",
    "    for ( x,y,w,h) in faces:\n",
    "        new_img=cv2.rectangle(img,(x,y),(x+w,y+h),(0,0,255),3)\n",
    "if eyes is ():\n",
    "    print(\"No eyes found\")\n",
    "else:\n",
    "    for ( x,y,w,h) in eyes:\n",
    "        new_img=cv2.rectangle(img,(x,y),(x+w,y+h),(255,0,0),3)\n",
    "    \n",
    "cv2.imshow(\"New\",new_img)\n",
    "cv2.waitKey(0)\n",
    "cv2.destroyAllWindows()"
   ]
  },
  {
   "cell_type": "markdown",
   "metadata": {},
   "source": [
    "# Live face and eye detector"
   ]
  },
  {
   "cell_type": "markdown",
   "metadata": {},
   "source": [
    "def track(img):\n",
    "    gray_img=cv2.cvtColor(img,cv2.COLOR_BGR2GRAY)\n",
    "    face_classifier=cv2.CascadeClassifier('../haarcascades/haarcascade_frontalface_default.xml')\n",
    "    eye_classifier=cv2.CascadeClassifier('../haarcascades/haarcascade_eye.xml')\n",
    "    faces=face_classifier.detectMultiScale(gray_img,1.15,6)\n",
    "    eyes=eye_classifier.detectMultiScale(gray_img,1.15,6)\n",
    "    new_img=img\n",
    "    if faces is ():\n",
    "        pass\n",
    "    else:\n",
    "        for ( x,y,w,h) in faces:\n",
    "            new_img=cv2.rectangle(img,(x,y),(x+w,y+h),(0,0,255),3)\n",
    "    if eyes is ():\n",
    "        pass\n",
    "    else:\n",
    "        for ( x,y,w,h) in eyes:\n",
    "            new_img=cv2.rectangle(img,(x,y),(x+w,y+h),(255,0,0),3)\n",
    "    return new_img"
   ]
  },
  {
   "cell_type": "code",
   "execution_count": 29,
   "metadata": {},
   "outputs": [],
   "source": [
    "cap=cv2.VideoCapture(0)\n",
    "while(True):\n",
    "    ret,img=cap.read()\n",
    "    cv2.imshow(\"Video\",track(img))\n",
    "    if(cv2.waitKey(1)==27):\n",
    "        break\n",
    "cap.release()\n",
    "cv2.destroyAllWindows()"
   ]
  },
  {
   "cell_type": "markdown",
   "metadata": {},
   "source": [
    "# Car Detection"
   ]
  },
  {
   "cell_type": "code",
   "execution_count": 2,
   "metadata": {},
   "outputs": [],
   "source": [
    "import cv2\n",
    "def detect_car(img):\n",
    "    gray_img=cv2.cvtColor(img,cv2.COLOR_BGR2GRAY)\n",
    "    car_classifier=cv2.CascadeClassifier('../haarcascades/haarcascade_car.xml')\n",
    "    cars=car_classifier.detectMultiScale(gray_img,1.15,6)\n",
    "    new_img=img\n",
    "    if cars is ():\n",
    "        pass\n",
    "    else:\n",
    "        for(x,y,w,h) in cars:\n",
    "            new_img=cv2.rectangle(img,(x,y),(x+w,y+h),(255,0,0),3)\n",
    "    return new_img"
   ]
  },
  {
   "cell_type": "code",
   "execution_count": 4,
   "metadata": {},
   "outputs": [],
   "source": [
    "import time\n",
    "cap=cv2.VideoCapture('../Images/cars.avi')\n",
    "while cap.isOpened():\n",
    "    time.sleep(0.1)\n",
    "    ret,img=cap.read()\n",
    "    cv2.imshow(\"Video\",detect_car(img))\n",
    "    if(cv2.waitKey(1)==27):\n",
    "\n",
    "        break\n",
    "\n",
    "cap.release()\n",
    "cv2.destroyAllWindows()"
   ]
  }
 ],
 "metadata": {
  "kernelspec": {
   "display_name": "Python 3",
   "language": "python",
   "name": "python3"
  },
  "language_info": {
   "codemirror_mode": {
    "name": "ipython",
    "version": 3
   },
   "file_extension": ".py",
   "mimetype": "text/x-python",
   "name": "python",
   "nbconvert_exporter": "python",
   "pygments_lexer": "ipython3",
   "version": "3.7.3"
  }
 },
 "nbformat": 4,
 "nbformat_minor": 2
}
