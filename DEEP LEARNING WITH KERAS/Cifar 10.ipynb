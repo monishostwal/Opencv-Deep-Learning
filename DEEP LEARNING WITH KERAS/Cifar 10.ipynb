{
 "cells": [
  {
   "cell_type": "code",
   "execution_count": 1,
   "metadata": {},
   "outputs": [
    {
     "name": "stderr",
     "output_type": "stream",
     "text": [
      "Using TensorFlow backend.\n"
     ]
    }
   ],
   "source": [
    "import keras"
   ]
  },
  {
   "cell_type": "code",
   "execution_count": 2,
   "metadata": {},
   "outputs": [],
   "source": [
    "from keras.datasets import cifar10\n",
    "import matplotlib.pyplot as plt"
   ]
  },
  {
   "cell_type": "code",
   "execution_count": 3,
   "metadata": {},
   "outputs": [],
   "source": [
    "(x_train, y_train), (x_test, y_test)=cifar10.load_data()"
   ]
  },
  {
   "cell_type": "code",
   "execution_count": 4,
   "metadata": {},
   "outputs": [
    {
     "data": {
      "text/plain": [
       "(50000, 32, 32, 3)"
      ]
     },
     "execution_count": 4,
     "metadata": {},
     "output_type": "execute_result"
    }
   ],
   "source": [
    "x_train.shape"
   ]
  },
  {
   "cell_type": "code",
   "execution_count": 5,
   "metadata": {},
   "outputs": [
    {
     "data": {
      "text/plain": [
       "(10000, 32, 32, 3)"
      ]
     },
     "execution_count": 5,
     "metadata": {},
     "output_type": "execute_result"
    }
   ],
   "source": [
    "x_test.shape"
   ]
  },
  {
   "cell_type": "code",
   "execution_count": 32,
   "metadata": {},
   "outputs": [
    {
     "data": {
      "text/plain": [
       "<matplotlib.image.AxesImage at 0x3fda40d5f8>"
      ]
     },
     "execution_count": 32,
     "metadata": {},
     "output_type": "execute_result"
    },
    {
     "data": {
      "image/png": "[encoded data removed]",
      "text/plain": [
       "<Figure size 432x288 with 1 Axes>"
      ]
     },
     "metadata": {
      "needs_background": "light"
     },
     "output_type": "display_data"
    }
   ],
   "source": [
    "plt.imshow(x_train[0])"
   ]
  },
  {
   "cell_type": "markdown",
   "metadata": {},
   "source": [
    "airplane : 0\n",
    "automobile : 1\n",
    "bird : 2\n",
    "cat : 3\n",
    "deer : 4\n",
    "dog : 5\n",
    "frog : 6\n",
    "horse : 7\n",
    "ship : 8\n",
    "truck : 9"
   ]
  },
  {
   "cell_type": "code",
   "execution_count": 7,
   "metadata": {},
   "outputs": [
    {
     "data": {
      "text/plain": [
       "array([6], dtype=uint8)"
      ]
     },
     "execution_count": 7,
     "metadata": {},
     "output_type": "execute_result"
    }
   ],
   "source": [
    "y_train[0]"
   ]
  },
  {
   "cell_type": "markdown",
   "metadata": {},
   "source": [
    "airplane : 0\n",
    "automobile : 1\n",
    "bird : 2\n",
    "cat : 3\n",
    "deer : 4\n",
    "dog : 5\n",
    "frog : 6\n",
    "horse : 7\n",
    "ship : 8\n",
    "truck : 9"
   ]
  },
  {
   "cell_type": "code",
   "execution_count": 8,
   "metadata": {},
   "outputs": [],
   "source": [
    "from keras.utils.np_utils import to_categorical"
   ]
  },
  {
   "cell_type": "code",
   "execution_count": 9,
   "metadata": {},
   "outputs": [],
   "source": [
    "y_train_cat=to_categorical(y_train,10)"
   ]
  },
  {
   "cell_type": "code",
   "execution_count": 10,
   "metadata": {},
   "outputs": [
    {
     "data": {
      "text/plain": [
       "(10,)"
      ]
     },
     "execution_count": 10,
     "metadata": {},
     "output_type": "execute_result"
    }
   ],
   "source": [
    "y_train_cat[0].shape"
   ]
  },
  {
   "cell_type": "code",
   "execution_count": 11,
   "metadata": {},
   "outputs": [],
   "source": [
    "y_test_cat=to_categorical(y_test,10)"
   ]
  },
  {
   "cell_type": "code",
   "execution_count": 12,
   "metadata": {},
   "outputs": [
    {
     "data": {
      "text/plain": [
       "255"
      ]
     },
     "execution_count": 12,
     "metadata": {},
     "output_type": "execute_result"
    }
   ],
   "source": [
    "x_train.max()"
   ]
  },
  {
   "cell_type": "code",
   "execution_count": 13,
   "metadata": {},
   "outputs": [],
   "source": [
    "x_train_normalize=x_train/255.0"
   ]
  },
  {
   "cell_type": "code",
   "execution_count": 14,
   "metadata": {},
   "outputs": [],
   "source": [
    "x_test_normalize=x_test/255.0"
   ]
  },
  {
   "cell_type": "code",
   "execution_count": 15,
   "metadata": {},
   "outputs": [],
   "source": [
    "from keras.models import Sequential"
   ]
  },
  {
   "cell_type": "code",
   "execution_count": 16,
   "metadata": {},
   "outputs": [
    {
     "name": "stdout",
     "output_type": "stream",
     "text": [
      "WARNING:tensorflow:From C:\\Users\\MONISH\\Anaconda3\\lib\\site-packages\\tensorflow_core\\python\\ops\\resource_variable_ops.py:1630: calling BaseResourceVariable.__init__ (from tensorflow.python.ops.resource_variable_ops) with constraint is deprecated and will be removed in a future version.\n",
      "Instructions for updating:\n",
      "If using Keras pass *_constraint arguments to layers.\n",
      "WARNING:tensorflow:From C:\\Users\\MONISH\\Anaconda3\\lib\\site-packages\\keras\\backend\\tensorflow_backend.py:4070: The name tf.nn.max_pool is deprecated. Please use tf.nn.max_pool2d instead.\n",
      "\n"
     ]
    }
   ],
   "source": [
    "model=Sequential([\n",
    "                keras.layers.Conv2D(filters=32,kernel_size=(5,5),activation='relu',input_shape=(32,32,3)),\n",
    "                keras.layers.MaxPool2D(pool_size=(2,2)),\n",
    "                keras.layers.Conv2D(filters=32,kernel_size=(5,5),activation='relu'),\n",
    "                keras.layers.MaxPool2D(pool_size=(2,2)),\n",
    "                keras.layers.Flatten(),\n",
    "                keras.layers.Dense(64,activation='relu'),\n",
    "                keras.layers.Dense(128,activation='relu'),\n",
    "                keras.layers.Dense(256,activation='relu'),\n",
    "                keras.layers.Dense(10,activation='softmax')\n",
    "])"
   ]
  },
  {
   "cell_type": "code",
   "execution_count": 17,
   "metadata": {},
   "outputs": [],
   "source": [
    "model.compile(optimizer='adam',loss='categorical_crossentropy',metrics=['accuracy'])"
   ]
  },
  {
   "cell_type": "code",
   "execution_count": 18,
   "metadata": {},
   "outputs": [
    {
     "name": "stdout",
     "output_type": "stream",
     "text": [
      "WARNING:tensorflow:From C:\\Users\\MONISH\\Anaconda3\\lib\\site-packages\\keras\\backend\\tensorflow_backend.py:422: The name tf.global_variables is deprecated. Please use tf.compat.v1.global_variables instead.\n",
      "\n",
      "Epoch 1/10\n",
      "50000/50000 [==============================] - 33s 652us/step - loss: 1.6013 - accuracy: 0.4092\n",
      "Epoch 2/10\n",
      "50000/50000 [==============================] - 33s 651us/step - loss: 1.3170 - accuracy: 0.5253\n",
      "Epoch 3/10\n",
      "50000/50000 [==============================] - 29s 583us/step - loss: 1.1965 - accuracy: 0.5742\n",
      "Epoch 4/10\n",
      "50000/50000 [==============================] - 29s 589us/step - loss: 1.0999 - accuracy: 0.6104\n",
      "Epoch 5/10\n",
      "50000/50000 [==============================] - 30s 596us/step - loss: 1.0231 - accuracy: 0.6392\n",
      "Epoch 6/10\n",
      "50000/50000 [==============================] - 33s 652us/step - loss: 0.9714 - accuracy: 0.6575\n",
      "Epoch 7/10\n",
      "50000/50000 [==============================] - 32s 647us/step - loss: 0.9182 - accuracy: 0.6771\n",
      "Epoch 8/10\n",
      "50000/50000 [==============================] - 34s 682us/step - loss: 0.8785 - accuracy: 0.6911\n",
      "Epoch 9/10\n",
      "50000/50000 [==============================] - 31s 610us/step - loss: 0.8417 - accuracy: 0.7041\n",
      "Epoch 10/10\n",
      "50000/50000 [==============================] - 30s 592us/step - loss: 0.8081 - accuracy: 0.7143\n"
     ]
    },
    {
     "data": {
      "text/plain": [
       "<keras.callbacks.callbacks.History at 0x3f60921e10>"
      ]
     },
     "execution_count": 18,
     "metadata": {},
     "output_type": "execute_result"
    }
   ],
   "source": [
    "model.fit(x_train_normalize,y_train_cat,epochs=10)"
   ]
  },
  {
   "cell_type": "code",
   "execution_count": 19,
   "metadata": {},
   "outputs": [
    {
     "name": "stdout",
     "output_type": "stream",
     "text": [
      "10000/10000 [==============================] - 2s 200us/step\n"
     ]
    },
    {
     "data": {
      "text/plain": [
       "[1.096651865005493, 0.6317999958992004]"
      ]
     },
     "execution_count": 19,
     "metadata": {},
     "output_type": "execute_result"
    }
   ],
   "source": [
    "model.evaluate(x_test_normalize,y_test_cat)"
   ]
  },
  {
   "cell_type": "code",
   "execution_count": 21,
   "metadata": {},
   "outputs": [],
   "source": [
    "y_pred=model.predict_classes(x_test_normalize)"
   ]
  },
  {
   "cell_type": "code",
   "execution_count": 22,
   "metadata": {},
   "outputs": [
    {
     "data": {
      "text/plain": [
       "3"
      ]
     },
     "execution_count": 22,
     "metadata": {},
     "output_type": "execute_result"
    }
   ],
   "source": [
    "y_pred[0]"
   ]
  },
  {
   "cell_type": "code",
   "execution_count": 20,
   "metadata": {},
   "outputs": [],
   "source": [
    "from sklearn.metrics import classification_report,confusion_matrix"
   ]
  },
  {
   "cell_type": "code",
   "execution_count": 23,
   "metadata": {},
   "outputs": [
    {
     "name": "stdout",
     "output_type": "stream",
     "text": [
      "              precision    recall  f1-score   support\n",
      "\n",
      "           0       0.76      0.57      0.66      1000\n",
      "           1       0.81      0.74      0.77      1000\n",
      "           2       0.47      0.60      0.53      1000\n",
      "           3       0.38      0.53      0.44      1000\n",
      "           4       0.61      0.54      0.57      1000\n",
      "           5       0.47      0.59      0.53      1000\n",
      "           6       0.77      0.68      0.72      1000\n",
      "           7       0.73      0.68      0.70      1000\n",
      "           8       0.81      0.71      0.75      1000\n",
      "           9       0.79      0.69      0.74      1000\n",
      "\n",
      "    accuracy                           0.63     10000\n",
      "   macro avg       0.66      0.63      0.64     10000\n",
      "weighted avg       0.66      0.63      0.64     10000\n",
      "\n"
     ]
    }
   ],
   "source": [
    "print(classification_report(y_test,y_pred))"
   ]
  },
  {
   "cell_type": "code",
   "execution_count": 24,
   "metadata": {},
   "outputs": [
    {
     "name": "stdout",
     "output_type": "stream",
     "text": [
      "[[574  24 152  53  27  18  10  16  86  40]\n",
      " [ 12 740  38  40   9  12  20  11  27  91]\n",
      " [ 41   4 597  98  76 107  40  26   5   6]\n",
      " [ 11   4  86 529  45 241  46  32   3   3]\n",
      " [ 13   4 113 152 536  69  33  71   9   0]\n",
      " [  5   0  85 198  43 592  21  52   0   4]\n",
      " [  3   4  75 128  30  73 676   8   0   3]\n",
      " [  7   1  47  74  82  98   8 676   1   6]\n",
      " [ 59  45  48  50  19  22  13   6 706  32]\n",
      " [ 26  93  23  66   8  21  14  22  35 692]]\n"
     ]
    }
   ],
   "source": [
    "print(confusion_matrix(y_test,y_pred))"
   ]
  },
  {
   "cell_type": "code",
   "execution_count": 28,
   "metadata": {},
   "outputs": [
    {
     "data": {
      "text/plain": [
       "<matplotlib.image.AxesImage at 0x3fda3574e0>"
      ]
     },
     "execution_count": 28,
     "metadata": {},
     "output_type": "execute_result"
    },
    {
     "data": {
      "image/png": "[encoded data removed]",
      "text/plain": [
       "<Figure size 432x288 with 1 Axes>"
      ]
     },
     "metadata": {
      "needs_background": "light"
     },
     "output_type": "display_data"
    }
   ],
   "source": [
    "plt.imshow(x_test[2])"
   ]
  },
  {
   "cell_type": "code",
   "execution_count": 31,
   "metadata": {},
   "outputs": [
    {
     "data": {
      "text/plain": [
       "array([0], dtype=int64)"
      ]
     },
     "execution_count": 31,
     "metadata": {},
     "output_type": "execute_result"
    }
   ],
   "source": [
    "img=x_test_normalize[2].reshape(1,32,32,3)\n",
    "model.predict_classes(img)"
   ]
  },
  {
   "cell_type": "code",
   "execution_count": 33,
   "metadata": {},
   "outputs": [],
   "source": [
    "model.save('./cifar.h5')"
   ]
  },
  {
   "cell_type": "code",
   "execution_count": null,
   "metadata": {},
   "outputs": [],
   "source": []
  }
 ],
 "metadata": {
  "kernelspec": {
   "display_name": "Python 3",
   "language": "python",
   "name": "python3"
  },
  "language_info": {
   "codemirror_mode": {
    "name": "ipython",
    "version": 3
   },
   "file_extension": ".py",
   "mimetype": "text/x-python",
   "name": "python",
   "nbconvert_exporter": "python",
   "pygments_lexer": "ipython3",
   "version": "3.7.3"
  }
 },
 "nbformat": 4,
 "nbformat_minor": 2
}
